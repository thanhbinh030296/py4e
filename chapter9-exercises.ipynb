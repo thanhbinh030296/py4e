{
 "metadata": {
  "language_info": {
   "codemirror_mode": {
    "name": "ipython",
    "version": 3
   },
   "file_extension": ".py",
   "mimetype": "text/x-python",
   "name": "python",
   "nbconvert_exporter": "python",
   "pygments_lexer": "ipython3",
   "version": "3.7.10"
  },
  "orig_nbformat": 4,
  "kernelspec": {
   "name": "python3",
   "display_name": "Python 3.7.10 64-bit ('vscode': conda)"
  },
  "interpreter": {
   "hash": "8a8bd5e84da4eac261cd7208867f675eefceca46937b77528820e5d32a674016"
  }
 },
 "nbformat": 4,
 "nbformat_minor": 2,
 "cells": [
  {
   "source": [
    "## Exercise 2"
   ],
   "cell_type": "markdown",
   "metadata": {}
  },
  {
   "cell_type": "code",
   "execution_count": 1,
   "metadata": {
    "tags": []
   },
   "outputs": [
    {
     "output_type": "execute_result",
     "data": {
      "text/plain": [
       "{'Mon': 0, 'Tue': 0, 'Wed': 0, 'Thu': 6, 'Fri': 20, 'Sat': 1, 'Sun': 0}"
      ]
     },
     "metadata": {},
     "execution_count": 1
    }
   ],
   "source": [
    "#Ex 2\n",
    "fhand = open('mbox-short.txt')\n",
    "#\n",
    "daysOfWeek = {\"Mon\":0, \"Tue\":0, \"Wed\":0, \"Thu\":0, \"Fri\":0, \"Sat\":0, \"Sun\":0}\n",
    "#\n",
    "for line in fhand:\n",
    "    #print(line)\n",
    "    if (line.startswith('From')):\n",
    "        for day in daysOfWeek:\n",
    "            if (day in line):\n",
    "                daysOfWeek[day]  = daysOfWeek[day]+1\n",
    "    \n",
    "#\n",
    "daysOfWeek"
   ]
  },
  {
   "cell_type": "code",
   "execution_count": 2,
   "metadata": {},
   "outputs": [
    {
     "output_type": "execute_result",
     "data": {
      "text/plain": [
       "True"
      ]
     },
     "metadata": {},
     "execution_count": 2
    }
   ],
   "source": [
    "'AAA' not in daysOfWeek.keys()"
   ]
  },
  {
   "source": [
    "### Exercise 3"
   ],
   "cell_type": "markdown",
   "metadata": {}
  },
  {
   "cell_type": "code",
   "execution_count": 3,
   "metadata": {},
   "outputs": [
    {
     "output_type": "execute_result",
     "data": {
      "text/plain": [
       "{'stephen.marquard@uct.ac.za': 4,\n",
       " 'louis@media.berkeley.edu': 6,\n",
       " 'zqian@umich.edu': 8,\n",
       " 'rjlowe@iupui.edu': 4,\n",
       " 'cwen@iupui.edu': 10,\n",
       " 'gsilver@umich.edu': 6,\n",
       " 'wagnermr@iupui.edu': 2,\n",
       " 'antranig@caret.cam.ac.uk': 2,\n",
       " 'gopal.ramasammycook@gmail.com': 2,\n",
       " 'david.horwitz@uct.ac.za': 8,\n",
       " 'ray@media.berkeley.edu': 2}"
      ]
     },
     "metadata": {},
     "execution_count": 3
    }
   ],
   "source": [
    "fhand = open('mbox-short.txt')\n",
    "list_mails = dict()\n",
    "#'From stephen.marquard@uct.ac.za Sat Jan  5 09:14:16 2008'\n",
    "for line in fhand:\n",
    "    if (line.startswith('From')):\n",
    "        list_words = line.split()\n",
    "        for word in list_words:\n",
    "            if '@' in word:\n",
    "                #check in dictionary\n",
    "                if word not in list_mails:\n",
    "                    list_mails[word] = 1\n",
    "                else:\n",
    "                    list_mails[word] = list_mails[word]+1\n",
    "list_mails"
   ]
  },
  {
   "cell_type": "code",
   "execution_count": null,
   "metadata": {},
   "outputs": [],
   "source": []
  }
 ]
}